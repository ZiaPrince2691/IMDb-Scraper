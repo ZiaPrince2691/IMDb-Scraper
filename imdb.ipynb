{
 "cells": [
  {
   "cell_type": "code",
   "execution_count": 23,
   "metadata": {},
   "outputs": [],
   "source": [
    "from bs4 import BeautifulSoup\n",
    "import pandas as pd\n",
    "import numpy as np"
   ]
  },
  {
   "cell_type": "code",
   "execution_count": 24,
   "metadata": {},
   "outputs": [],
   "source": [
    "from Functions import *"
   ]
  },
  {
   "cell_type": "code",
   "execution_count": 25,
   "metadata": {},
   "outputs": [],
   "source": [
    "names       = []\n",
    "years       = []\n",
    "roles       = []\n",
    "lenghts     = []\n",
    "ratings     = []\n",
    "award_wins        = []\n",
    "award_nominations = []"
   ]
  },
  {
   "cell_type": "code",
   "execution_count": 26,
   "metadata": {},
   "outputs": [],
   "source": [
    "name = input(\"Enter Name : \")"
   ]
  },
  {
   "cell_type": "code",
   "execution_count": 27,
   "metadata": {},
   "outputs": [
    {
     "name": "stdout",
     "output_type": "stream",
     "text": [
      "----------------------------\n",
      "Movie :  Padatik\n",
      " Role :  singer: Tu Zinda Hain\n",
      "----------------------------\n",
      "Movie :  Chandu Champion\n",
      " Role :  playback singer\n",
      "----------------------------\n",
      "Movie :  Srikanth\n",
      " Role :  playback singer\n",
      "----------------------------\n",
      "Total Movies :  3\n",
      " Total Roles :  3\n"
     ]
    }
   ],
   "source": [
    "pages , roles = get_pages(name)"
   ]
  },
  {
   "cell_type": "code",
   "execution_count": 28,
   "metadata": {},
   "outputs": [
    {
     "name": "stdout",
     "output_type": "stream",
     "text": [
      "Can't find awards...\n",
      "Can't find awards...\n",
      "Can't find awards...\n"
     ]
    }
   ],
   "source": [
    "for html in pages:\n",
    "    soup = BeautifulSoup(html , 'html.parser')\n",
    "\n",
    "    try:\n",
    "        details = soup.find('div' , class_ = 'sc-1f50b7c-0 iPPbjm')\n",
    "        name = details.find('h1' , class_ = 'sc-d8941411-0 dxeMrU').text\n",
    "        info = details.find_all('li' , class_ = 'ipc-inline-list__item')\n",
    "        year = info[0].text\n",
    "        lenght = info[-1].text\n",
    "        names.append(name)\n",
    "        years.append(year)\n",
    "        lenghts.append(lenght)\n",
    "    except:\n",
    "        print(\"Can't find details...\")\n",
    "        names.append(np.nan)\n",
    "        years.append(np.nan)\n",
    "        lenghts.append(np.nan)\n",
    "    \n",
    "    try:\n",
    "        rating = soup.find('div' , class_ = 'sc-eb51e184-2 fAhXAe').find('span').text\n",
    "        ratings.append(rating)\n",
    "    except:\n",
    "        print(\"Can't find ratings...\")\n",
    "        ratings.append(np.nan)\n",
    "    \n",
    "    try:\n",
    "        awards = soup.find('div' , class_ = 'sc-15ed0f38-0 SbrJb base')\n",
    "        award_details = awards.find('span' , class_ = 'ipc-metadata-list-item__list-content-item').text\n",
    "        numbers = [int(num) for num in award_details.split() if num.isdigit()]\n",
    "        award_win = numbers[0]\n",
    "        award_nomination = numbers[1]\n",
    "\n",
    "        award_wins.append(award_win)\n",
    "        award_nominations.append(award_nomination)\n",
    "    except:\n",
    "        print(\"Can't find awards...\")\n",
    "        award_wins.append(np.nan)\n",
    "        award_nominations.append(np.nan)"
   ]
  },
  {
   "cell_type": "code",
   "execution_count": 29,
   "metadata": {},
   "outputs": [],
   "source": [
    "data = {\n",
    "    \"Movie\"             : names,\n",
    "    \"Year\"              : years,\n",
    "    \"Role\"              : roles,\n",
    "    \"Lenght\"            : lenghts,\n",
    "    \"Rating\"            : ratings,\n",
    "    \"Award_Wins\"        : award_wins,\n",
    "    \"Award_Nominations\" : award_nominations\n",
    "}\n",
    "\n",
    "df = pd.DataFrame(data)\n",
    "df.index = pd.RangeIndex(start=1, stop=len(df)+1, step=1)"
   ]
  },
  {
   "cell_type": "code",
   "execution_count": 30,
   "metadata": {},
   "outputs": [
    {
     "data": {
      "text/html": [
       "<div>\n",
       "<style scoped>\n",
       "    .dataframe tbody tr th:only-of-type {\n",
       "        vertical-align: middle;\n",
       "    }\n",
       "\n",
       "    .dataframe tbody tr th {\n",
       "        vertical-align: top;\n",
       "    }\n",
       "\n",
       "    .dataframe thead th {\n",
       "        text-align: right;\n",
       "    }\n",
       "</style>\n",
       "<table border=\"1\" class=\"dataframe\">\n",
       "  <thead>\n",
       "    <tr style=\"text-align: right;\">\n",
       "      <th></th>\n",
       "      <th>Movie</th>\n",
       "      <th>Year</th>\n",
       "      <th>Role</th>\n",
       "      <th>Lenght</th>\n",
       "      <th>Rating</th>\n",
       "      <th>Award_Wins</th>\n",
       "      <th>Award_Nominations</th>\n",
       "    </tr>\n",
       "  </thead>\n",
       "  <tbody>\n",
       "    <tr>\n",
       "      <th>1</th>\n",
       "      <td>Padatik</td>\n",
       "      <td>2024</td>\n",
       "      <td>singer: Tu Zinda Hain</td>\n",
       "      <td>2h 6m</td>\n",
       "      <td>8.7</td>\n",
       "      <td>NaN</td>\n",
       "      <td>NaN</td>\n",
       "    </tr>\n",
       "    <tr>\n",
       "      <th>2</th>\n",
       "      <td>Chandu Champion</td>\n",
       "      <td>2024</td>\n",
       "      <td>playback singer</td>\n",
       "      <td>2h 22m</td>\n",
       "      <td>8.0</td>\n",
       "      <td>NaN</td>\n",
       "      <td>NaN</td>\n",
       "    </tr>\n",
       "    <tr>\n",
       "      <th>3</th>\n",
       "      <td>Srikanth</td>\n",
       "      <td>2024</td>\n",
       "      <td>playback singer</td>\n",
       "      <td>2h 14m</td>\n",
       "      <td>7.4</td>\n",
       "      <td>NaN</td>\n",
       "      <td>NaN</td>\n",
       "    </tr>\n",
       "  </tbody>\n",
       "</table>\n",
       "</div>"
      ],
      "text/plain": [
       "             Movie  Year                   Role  Lenght Rating  Award_Wins  \\\n",
       "1          Padatik  2024  singer: Tu Zinda Hain   2h 6m    8.7         NaN   \n",
       "2  Chandu Champion  2024        playback singer  2h 22m    8.0         NaN   \n",
       "3         Srikanth  2024        playback singer  2h 14m    7.4         NaN   \n",
       "\n",
       "   Award_Nominations  \n",
       "1                NaN  \n",
       "2                NaN  \n",
       "3                NaN  "
      ]
     },
     "execution_count": 30,
     "metadata": {},
     "output_type": "execute_result"
    }
   ],
   "source": [
    "df.head()"
   ]
  },
  {
   "cell_type": "code",
   "execution_count": 31,
   "metadata": {},
   "outputs": [],
   "source": [
    "df.to_csv('Movies.csv')"
   ]
  }
 ],
 "metadata": {
  "kernelspec": {
   "display_name": "Python 3",
   "language": "python",
   "name": "python3"
  },
  "language_info": {
   "codemirror_mode": {
    "name": "ipython",
    "version": 3
   },
   "file_extension": ".py",
   "mimetype": "text/x-python",
   "name": "python",
   "nbconvert_exporter": "python",
   "pygments_lexer": "ipython3",
   "version": "3.12.5"
  }
 },
 "nbformat": 4,
 "nbformat_minor": 2
}
